{
 "cells": [
  {
   "cell_type": "markdown",
   "metadata": {},
   "source": [
    "# IBM Capstone Course Project - Report"
   ]
  },
  {
   "cell_type": "markdown",
   "metadata": {},
   "source": [
    "## 1. Introduction/Business Problem"
   ]
  },
  {
   "cell_type": "markdown",
   "metadata": {},
   "source": [
    "### 1.1 Introduction (Background)"
   ]
  },
  {
   "cell_type": "markdown",
   "metadata": {},
   "source": [
    "Early in my career, I relocated to several cities while pursuing employment opportunities. While I thought of these travels as adventures, I was concerned with the challenge of finding housing in a neighborhood that provided a suitable environment, similar to the one I had just left. The process of finding a new home where I enjoyed living was usually a hit or miss proposition, especially in larger cities that offered a multitude of residential choices.\n",
    "\n",
    "Once I arrived in a city, I would usually find something that met my basic requirements, as typically my search window was small. As I had time to explore, I would eventually discover a place that I found not only satisfactory, but also pleasing. Unfortunately, this process was highly ineffective, as it could result in significantly higher relocation expenses, as what should have been only one move could easily evolve into at least two."
   ]
  },
  {
   "cell_type": "markdown",
   "metadata": {},
   "source": [
    "### 1.2 Business Problem"
   ]
  },
  {
   "cell_type": "markdown",
   "metadata": {},
   "source": [
    "When relocating from one city to another, a person should have a resource available to help them find a residence in a neighborhood that offers a set of desired amenities similar to the one they left. This stage of the relocation process should be optimized for time-efficiency, offering a manageable selection of neighborhoods from which to choose. Unfortunately, when moving to a new city, a person may not be familiar with the area. This unfamiliarity often results in an inefficient use of one’s time and financial resources, as they become overwhelmed with choices which may or may not suite their needs. Also, the person may feel increasing levels of stress, as the time for finding a residence and the cost of temporary housing increase, leading them to perhaps make a suboptimal decision. Using the process outlined in this project, someone relocating to another city will be able to streamline their search for a new residence relatively quickly by reducing the number of choices to a manageable level while focusing on those neighborhoods that meet their requirements. In summary, this project addresses the question, “How do I travel to a new city and find a neighborhood in which to live that offers similar comforts and amenities to the one I left?”"
   ]
  },
  {
   "cell_type": "markdown",
   "metadata": {},
   "source": [
    "### 1.3 Target Audience"
   ]
  },
  {
   "cell_type": "markdown",
   "metadata": {},
   "source": [
    "This project is useful for two target audiences. This first audience is those who are moving from one city to another and desire to maintain a similar living condition with recognizable surroundings. They are seeking an efficient time/cost process for selecting their optimum neighborhood. (Note: this process assumes the individual wishes to seek a neighborhood like the one they are leaving.) The second audience is those real estate agents/relocation consultants who desire to offer a service that increases not only the efficiency by which their clients are able to relocate into a new city, but also their level of satisfaction with their new neighborhood. Developing such a list of satisfied customers will increase referrals and help their practice to flourish."
   ]
  },
  {
   "cell_type": "markdown",
   "metadata": {},
   "source": [
    "## 2. Data"
   ]
  },
  {
   "cell_type": "markdown",
   "metadata": {},
   "source": [
    "### 2.1 Data Sources and Description"
   ]
  },
  {
   "cell_type": "markdown",
   "metadata": {},
   "source": [
    "The data used in this project is derived from three different sources. For the purpose of this analysis, New York City serves as the originating location and the City of Toronto is the destination. "
   ]
  },
  {
   "cell_type": "markdown",
   "metadata": {},
   "source": [
    "#### 2.1.1 New York City Data"
   ]
  },
  {
   "cell_type": "markdown",
   "metadata": {},
   "source": [
    "Data for New York City was initially downloaded from the NYU Spatial Data Repository and then housed on the course server for use in the Week 3 laboratory. The “newyork_data.json” file contains information for the City’s 5 boroughs and 306 neighborhoods, including the latitude and longitude coordinates for each neighborhood. The relevant data is contained in the features object with the borough and neighborhood values in the properties object and the latitude and longitude coordinates in the geometry object. This information is read into a pandas DataFrame that contains columns for “Borough,” “Neighborhood,” “Latitude,” and “Longitude.” See table below for an example. [The code for collecting the data and building the DateFrame may be found here.](https://github.com/MichaelMossPhD/Coursera_Capstone/blob/master/NYC%20Data.ipynb)"
   ]
  },
  {
   "cell_type": "markdown",
   "metadata": {},
   "source": [
    "<table>\n",
    "    <tr>\n",
    "        <th>Borough</th>\n",
    "        <th>Neighborhood</th>\n",
    "        <th>Latitude</th>\n",
    "        <th>Longitude</th>\n",
    "    </tr>\n",
    "     <tr>\n",
    "        <th>Bronx</th>\n",
    "        <th>Wakefield</th>\n",
    "        <th>40.894705</th>\n",
    "        <th>-73.847201</th>\n",
    "    </tr>\n",
    "    <tr>\n",
    "        <th>Bronx</th>\n",
    "        <th>Co-op City</th>\n",
    "        <th>40.874294</th>\n",
    "        <th>-73.829939</th>\n",
    "    </tr>\n",
    "    <tr>\n",
    "        <th>Bronx</th>\n",
    "        <th>Eastchester</th>\n",
    "        <th>40.887556</th>\n",
    "        <th>-73.827806</th>\n",
    "    </tr>\n",
    "     <tr>\n",
    "        <th>Bronx</th>\n",
    "        <th>Fieldston</th>\n",
    "        <th>40.895437</th>\n",
    "        <th>-73.905643</th>\n",
    "    </tr>\n",
    "     <tr>\n",
    "        <th>Bronx</th>\n",
    "        <th>Riverdale</th>\n",
    "        <th>40.890834</th>\n",
    "        <th>-73.912585</th>\n",
    "    </tr>\n",
    "</table>"
   ]
  },
  {
   "cell_type": "markdown",
   "metadata": {},
   "source": [
    "#### 2.1.2 City of Toronto Data"
   ]
  },
  {
   "cell_type": "markdown",
   "metadata": {},
   "source": [
    "Collecting data for the City of Toronto is a more complex endeavor. The raw data for Toronto’s neighborhoods is gathered from the “List of Postal Codes of Canada: M” Wikipedia page. Data from this page is scraped using BeautifulSoup4 with the lxml toolkit for processing XML and HTML. Data from each HTML table row in the “wikitable sortable” table class is read into a pandas DataFrame that contains columns for “Postcode,” “Borough,” and “Neighborhood.” After creating the DataFrame, the data is wrangled in four steps:\n",
    "1. Rows having boroughs with the designation of “Not assigned” are removed.\n",
    "2. Neighborhoods that share the same postal code are combined into one record with the neighborhoods separated with a comma.\n",
    "3. If a record has a borough, but the neighborhood has the designation of “Not assigned,” the neighborhood has the same value as its borough. \n",
    "4. Values in the Neighborhood column with an extra character (“\\n”) have it removed using the replace() method.\n",
    "\n",
    "See table below for an example of the resulting DataFrame."
   ]
  },
  {
   "cell_type": "markdown",
   "metadata": {},
   "source": [
    "<table>\n",
    "    <tr>\n",
    "        <th>PostalCode</th>\n",
    "        <th>Borough</th>\n",
    "        <th>Neighborhood</th>\n",
    "    </tr>\n",
    "<tr>\n",
    "        <th>M1B</th>\n",
    "        <th>Scarborough</th>\n",
    "        <th>Rouge, Malvern</th>\n",
    "    </tr>\n",
    "    <tr>\n",
    "        <th>M1C</th>\n",
    "        <th>Scarborough</th>\n",
    "        <th>Highland Creek, Rouge Hill, Port Union</th>\n",
    "    </tr>\n",
    "     <tr>\n",
    "        <th>M1E</th>\n",
    "        <th>Scarborough</th>\n",
    "        <th>Guildwood, Morningside, West Hill</th>\n",
    "    </tr>\n",
    "    <tr>\n",
    "        <th>M1G</th>\n",
    "        <th>Scarborough</th>\n",
    "        <th>Woburn</th>\n",
    "    </tr>\n",
    "     <tr>\n",
    "        <th>M1H</th>\n",
    "        <th>Scarborough</th>\n",
    "        <th>Cedarbrae</th>\n",
    "    </tr>\n",
    "</table>"
   ]
  },
  {
   "cell_type": "markdown",
   "metadata": {},
   "source": [
    "However, the preceeding DataFrame does not contain the necessary latitude and longitude coordinates. This information was provided via an instructor furnished .csv file, Geospatial_Coordinates.csv. This data is merged with the original City of Toronto DataFrame. See table below for an example of the resulting DataFrame."
   ]
  },
  {
   "cell_type": "markdown",
   "metadata": {},
   "source": [
    "<table>\n",
    "    <tr>\n",
    "        <th>PostalCode</th>\n",
    "        <th>Borough</th>\n",
    "        <th>Neighborhood</th>\n",
    "        <th>Latitude</th>\n",
    "        <th>Longitude</th>\n",
    "    </tr>\n",
    "<tr>\n",
    "        <th>M1B</th>\n",
    "        <th>Scarborough</th>\n",
    "        <th>Rouge, Malvern</th>\n",
    "        <th>43.806686</th>\n",
    "        <th>-79.194353</th>\n",
    "    </tr>\n",
    "    <tr>\n",
    "        <th>M1C</th>\n",
    "        <th>Scarborough</th>\n",
    "        <th>Highland Creek, Rouge Hill, Port Union</th>\n",
    "        <th>43.784535</th>\n",
    "        <th>-79.160497</th>\n",
    "    </tr>\n",
    "     <tr>\n",
    "        <th>M1E</th>\n",
    "        <th>Scarborough</th>\n",
    "        <th>Guildwood, Morningside, West Hill</th>\n",
    "        <th>43.763573</th>\n",
    "        <th>-79.188711</th>\n",
    "    </tr>\n",
    "     <tr>\n",
    "        <th>M1G</th>\n",
    "        <th>Scarborough</th>\n",
    "        <th>Woburn</th>\n",
    "        <th>43.770992</th>\n",
    "        <th>-79.216917</th>\n",
    "    </tr>\n",
    "    <tr>\n",
    "        <th>M1H</th>\n",
    "        <th>Scarborough</th>\n",
    "        <th>Cedarbrae</th>\n",
    "        <th>43.773136</th>\n",
    "        <th>-79.239476</th>\n",
    "    </tr>\n",
    "</table>"
   ]
  },
  {
   "cell_type": "markdown",
   "metadata": {},
   "source": [
    "Finally, the Postcode column is removed, resulting in the same format structure as the DataFrame for New York City. See table below for an example of the resulting DataFrame."
   ]
  },
  {
   "cell_type": "markdown",
   "metadata": {},
   "source": [
    "<table>\n",
    "    <tr>\n",
    "        <th>Borough</th>\n",
    "        <th>Neighborhood</th>\n",
    "        <th>Latitude</th>\n",
    "        <th>Longitude</th>\n",
    "    </tr>\n",
    "<tr>\n",
    "        <th>Scarborough</th>\n",
    "        <th>Rouge, Malvern</th>\n",
    "        <th>43.806686</th>\n",
    "        <th>-79.194353</th>\n",
    "    </tr>\n",
    "    <tr>\n",
    "        <th>Scarborough</th>\n",
    "        <th>Highland Creek, Rouge Hill, Port Union</th>\n",
    "        <th>43.784535</th>\n",
    "        <th>-79.160497</th>\n",
    "    </tr>\n",
    "     <tr>\n",
    "        <th>Scarborough</th>\n",
    "        <th>Guildwood, Morningside, West Hill</th>\n",
    "        <th>43.763573</th>\n",
    "        <th>-79.188711</th>\n",
    "    </tr>\n",
    "     <tr>\n",
    "        <th>Scarborough</th>\n",
    "        <th>Woburn</th>\n",
    "        <th>43.770992</th>\n",
    "        <th>-79.216917</th>\n",
    "    </tr>\n",
    "    <tr>\n",
    "        <th>Scarborough</th>\n",
    "        <th>Cedarbrae</th>\n",
    "        <th>43.773136</th>\n",
    "        <th>-79.239476</th>\n",
    "    </tr>\n",
    "</table>"
   ]
  },
  {
   "cell_type": "markdown",
   "metadata": {},
   "source": [
    "[The code for collecting the data and building the DateFrame may be found here.](https://github.com/MichaelMossPhD/Coursera_Capstone/blob/master/Toronto%20Data.ipynb)"
   ]
  },
  {
   "cell_type": "markdown",
   "metadata": {},
   "source": [
    "#### 2.1.3 FourSquare Data"
   ]
  },
  {
   "cell_type": "markdown",
   "metadata": {},
   "source": [
    "Connecting to its database, the FourSquare API is used to explore neighborhoods in New York City and the City of Toronto. The resulting Jason files provide the following information regarding venues from each neighborhood:\n",
    "- Venue Name (name)\n",
    "- Category Name (categories)\n",
    "- Venue Latitude (lat)\n",
    "- Venue Longitude (lng)\n",
    "\n",
    "The data is cleaned and stored in a DataFrame. See table below for an example."
   ]
  },
  {
   "cell_type": "markdown",
   "metadata": {},
   "source": [
    "<table>\n",
    "    <tr>\n",
    "        <th>name</th>\n",
    "        <th>categories</th>\n",
    "        <th>lat</th>\n",
    "        <th>lng</th>\n",
    "    </tr>\n",
    "    <tr>\n",
    "        <th>Eagle's Nest Golf Club</th>\n",
    "        <th>Golf Course</th>\n",
    "        <th>43.805455</th>\n",
    "        <th>-79.364186</th>\n",
    "    </tr>\n",
    "    <tr>\n",
    "        <th>AY Jackson Pool</th>\n",
    "        <th>Pool</th>\n",
    "        <th>43.804515</th>\n",
    "        <th>-79.366138</th>\n",
    "    </tr>\n",
    "    <tr>\n",
    "        <th>Villa Madina</th>\n",
    "        <th>Mediterranean Restaurant</th>\n",
    "        <th>43.801685</th>\n",
    "        <th>-79.363938</th>\n",
    "    </tr>\n",
    "     <tr>\n",
    "        <th>Duncan Creek Park</th>\n",
    "        <th>Dog Run</th>\n",
    "        <th>43.805539</th>\n",
    "        <th>-79.360695</th>\n",
    "    </tr>\n",
    "</table>"
   ]
  },
  {
   "cell_type": "markdown",
   "metadata": {},
   "source": [
    "This information is then merged with the DataFrames for New York City and the City of Toronto. The resulting DataFrames provide columns for each city’s neighborhoods, neighborhood latitudes, neighborhood longitudes, venues, venue latitudes, venue longitudes, and venue categories. See table below for an example."
   ]
  },
  {
   "cell_type": "markdown",
   "metadata": {},
   "source": [
    "<table>\n",
    "    <tr>\n",
    "        <th>Neighborhood</th>\n",
    "        <th>Neighborhood Latitude</th>\n",
    "        <th>Neighborhood Longitude</th>\n",
    "        <th>Venue</th>\n",
    "        <th>Venue Latitude</th>\n",
    "        <th>Venue Longitude</th>\n",
    "        <th>Category</th>\n",
    "    </tr>\n",
    "    <tr>\n",
    "        <th>Hillcrest Village</th>\n",
    "        <th>43.803762</th>\n",
    "        <th>-79.363452</th>\n",
    "        <th>Eagle's Nest Golf Club</th>\n",
    "        <th>43.805455</th>\n",
    "        <th>-79.364186</th>\n",
    "        <th>Golf Course</th>\n",
    "    </tr>\n",
    "    <tr>\n",
    "        <th>Hillcrest Village</th>\n",
    "        <th>43.803762</th>\n",
    "        <th>-79.363452</th>\n",
    "        <th>AY Jackson Pool</th>\n",
    "        <th>43.804515</th>\n",
    "        <th>-79.366138</th>\n",
    "        <th>Pool</th>\n",
    "    </tr>\n",
    "    <tr>\n",
    "        <th>Hillcrest Village</th>\n",
    "        <th>43.803762</th>\n",
    "        <th>-79.363452</th>\n",
    "        <th>Villa Madina</th>\n",
    "        <th>43.801685</th>\n",
    "        <th>-79.363938</th>\n",
    "        <th>Mediterranean Restaurant</th>\n",
    "    </tr>\n",
    "    <tr>\n",
    "        <th>Hillcrest Village</th>\n",
    "        <th>43.803762</th>\n",
    "        <th>-79.363452</th>\n",
    "        <th>Duncan Creek Park</th>\n",
    "        <th>43.805539</th>\n",
    "        <th>-79.360695</th>\n",
    "        <th>Dog Run</th>\n",
    "    </tr>\n",
    "    <tr>\n",
    "        <th>Fairview, Henry Farm, Oriole</th>\n",
    "        <th>43.778517</th>\n",
    "        <th>-79.346556</th>\n",
    "        <th>The LEGO Store</th>\n",
    "        <th>43.778207</th>\n",
    "        <th>-79.360695</th>\n",
    "        <th>Toy / Game Store</th>\n",
    "    </tr>\n",
    "</table>"
   ]
  },
  {
   "cell_type": "markdown",
   "metadata": {},
   "source": [
    "### 2.2 How the Data Will Be Used to Solve the Problem"
   ]
  },
  {
   "cell_type": "markdown",
   "metadata": {},
   "source": [
    "Data pertaining to the boroughs of New York City and the City of Toronto will be used to identify their respective neighborhoods. Neighborhood coordinates will be used to locate them on a geographical map. The map of New Yok City will identify the location of the neighborhood that serves as the starting point for the subject’s relocation. The initial map of the City of Toronto will identify locations of potential neighborhoods in which the subject may reside. Eventually, the City of Toronto map will display color-coded neighborhoods, identifying those that meet the subject’s requirements.\n",
    "\n",
    "Neighborhood data will be combined with FourSquare’s venue data to:\n",
    "1. associate venues with a specific neighborhood\n",
    "2. determine the number of unique categories in each neighborhood\n",
    "3. gather a specified number of top venues within a given radius of a neighborhood, and\n",
    "4. determine the number of venues returned for each neighborhood.\n",
    "\n",
    "The collected data will then be processed to determine the mean and frequency of occurrence of each category for each neighborhood. The most common five venues for each neighborhood will be identified and sorted in descending order. Finally, a DataFrame will be created to store the top 10 most common venues for each neighborhood. The data from this DataFrame will be processed to cluster the neighborhoods, allowing for comparsion between the baseline neighborhood in New York City and those in the City of Toronto."
   ]
  },
  {
   "cell_type": "markdown",
   "metadata": {},
   "source": [
    "## 3. Methodology"
   ]
  },
  {
   "cell_type": "markdown",
   "metadata": {},
   "source": [
    "Having collected and cleansed the data for New York City and the City of Toronto, this project moves into the analysis phase. The characteristics of the originating neighborhood (East Village) in New York City and the potential neighborhoods for relocation in the City of Toronto are examined. Then, k-means clustering is used to group the East Village neighborhood with those Toronto neighborhoods having similar characteristics. At the end of this process, the East Village with be assigned to a cluster of Toronto neighbors that are similar. These are the neighborhoods the subject should examine as possible relocation areas."
   ]
  },
  {
   "cell_type": "markdown",
   "metadata": {},
   "source": [
    "### 3.1 Analysis of East Village in New York City"
   ]
  },
  {
   "cell_type": "markdown",
   "metadata": {},
   "source": [
    "Once the coordinates for New York City and the East Village have been identified, the FourSquare API is used to gather the top 100 venues that are within 500 meters of the neighborhood’s center. These venues are then assigned to categories along with their respective longitudes and latitudes. See table below for a partial listing."
   ]
  },
  {
   "cell_type": "markdown",
   "metadata": {},
   "source": [
    "<table>\n",
    "    <tr>\n",
    "        <th>Venue</th>\n",
    "        <th>Venue Category</th>\n",
    "        <th>lat</th>\n",
    "        <th>lng</th>\n",
    "    </tr>\n",
    "    <tr>\n",
    "        <th>Good Beer NYC</th>\n",
    "        <th>Beer Store</th>\n",
    "        <th>40.727643</th>\n",
    "        <th>-73.983835</th>\n",
    "    </tr>\n",
    "    <tr>\n",
    "        <th>Cafe Mogador</th>\n",
    "        <th>Moroccan Restaurant</th>\n",
    "        <th>40.727293</th>\n",
    "        <th>-73.984517</th>\n",
    "    </tr>\n",
    "    <tr>\n",
    "        <th>Kura</th>\n",
    "        <th>Japanese Restaurant</th>\n",
    "        <th>40.726803</th>\n",
    "        <th>-73.983444</th>\n",
    "    </tr>\n",
    "     <tr>\n",
    "        <th>Tompkins Square Park Dog Run</th>\n",
    "        <th>Dog Run</th>\n",
    "        <th>40.726482</th>\n",
    "        <th>-73.981204</th>\n",
    "    </tr>\n",
    "    <tr>\n",
    "        <th>Tompkins Square Bagels</th>\n",
    "        <th>Bagel Shop</th>\n",
    "        <th>40.728243</th>\n",
    "        <th>-73.982127</th>\n",
    "    </tr>\n",
    "</table>"
   ]
  },
  {
   "cell_type": "markdown",
   "metadata": {},
   "source": [
    "From this information, a map is drawn showing the East Village’s top venues and their locations."
   ]
  },
  {
   "cell_type": "code",
   "execution_count": 19,
   "metadata": {},
   "outputs": [
    {
     "data": {
      "text/html": [
       "<a href=\"https://nbviewer.jupyter.org/github/MichaelMossPhD/Coursera_Capstone/blob/master/east_village_venues.html\" target=\"_blank\">Link to map of East Village venues.</a>"
      ],
      "text/plain": [
       "<IPython.core.display.HTML object>"
      ]
     },
     "execution_count": 19,
     "metadata": {},
     "output_type": "execute_result"
    }
   ],
   "source": [
    "from IPython.display import HTML\n",
    "HTML('<a href=\"https://nbviewer.jupyter.org/github/MichaelMossPhD/Coursera_Capstone/blob/master/east_village_venues.html\" target=\"_blank\">Link to map of East Village venues.</a>')"
   ]
  },
  {
   "cell_type": "markdown",
   "metadata": {},
   "source": [
    "Once the neighborhood and venue information are combined into a single DataFrame, the number of venues in each category for the East Village is added. Next, the means are taken for the venue's occurrence in each category. [See code for these steps and their outputs here (new tab).](https://github.com/MichaelMossPhD/Coursera_Capstone/blob/master/IBM%20Capstone%20Project%20-%20Code.ipynb)From this result, the top 10 most common categories are determined. See the following table for the ranking of the top 10 East Village categories by frequency."
   ]
  },
  {
   "cell_type": "markdown",
   "metadata": {},
   "source": [
    "<table>\n",
    "       <tr>\n",
    "        <th>Venue Category</th>\n",
    "        <th>Frequency</th>\n",
    "    </tr>\n",
    "    <tr>\n",
    "        <th>Ice Cream Shop</th>\n",
    "        <th>0.06</th>\n",
    "    </tr>\n",
    "    <tr>\n",
    "        <th>Bar</th>\n",
    "        <th>0.05</th>\n",
    "    </tr>\n",
    "    <tr>\n",
    "        <th>Wine Bar</th>\n",
    "        <th>0.05</th>\n",
    "    </tr>\n",
    "    <tr>\n",
    "        <th>Cocktail Bar</th>\n",
    "        <th>0.04</th>\n",
    "    </tr>\n",
    "     <tr>\n",
    "        <th>Mexican Restaurant</th>\n",
    "        <th>0.04</th>\n",
    "    </tr>\n",
    "    <tr>\n",
    "        <th>Pizza Place</th>\n",
    "        <th>0.03</th>\n",
    "    </tr>\n",
    "    <tr>\n",
    "        <th>Chinese Restaurant</th>\n",
    "        <th>0.03</th>\n",
    "    </tr>\n",
    "    <tr>\n",
    "        <th>Ramen Restaurant</th>\n",
    "        <th>0.03</th>\n",
    "    </tr>\n",
    "    <tr>\n",
    "        <th>Speakeasy</th>\n",
    "        <th>0.03</th>\n",
    "    </tr>\n",
    "    <tr>\n",
    "        <th>Cafe / Record Shop</th>\n",
    "        <th>0.02</th>\n",
    "    </tr>\n",
    "</table>"
   ]
  },
  {
   "cell_type": "markdown",
   "metadata": {},
   "source": [
    "Finally, a new DataFrame is created to store the top 10 venue categories for the East Village. See table below."
   ]
  },
  {
   "cell_type": "markdown",
   "metadata": {},
   "source": [
    "<table>\n",
    "    <tr>\n",
    "        <th>Neighborhood</th>\n",
    "        <th>1st Most Common Venue Category</th>\n",
    "        <th>2nd Most Common Venue Category</th>\n",
    "        <th>3rd Most Common Venue Category</th>\n",
    "        <th>4th Most Common Venue Category</th>\n",
    "        <th>5th Most Common Venue Category</th>\n",
    "        <th>6th Most Common Venue Category</th>\n",
    "        <th>7th Most Common Venue Category</th>\n",
    "        <th>8th Most Common Venue Category</th>\n",
    "        <th>9th Most Common Venue Category</th>\n",
    "        <th>10th Most Common Venue Category</th>\n",
    "    </tr>\n",
    "    <tr>\n",
    "        <th>East Village</th>\n",
    "        <th>Ice Cream Shop</th>\n",
    "        <th>Bar</th>\n",
    "        <th>Bar\tWine Bar</th>\n",
    "        <th>Cocktail Bar</th>\n",
    "        <th>Mexican Restaurant</th>\n",
    "        <th>Ramen Restaurant</th>\n",
    "        <th>Speakeasy</th>\n",
    "        <th>Pizza Place</th>\n",
    "        <th>Chinese Restaurant</th>\n",
    "        <th>Café</th>\n",
    "    </tr>\n",
    "</table>"
   ]
  },
  {
   "cell_type": "markdown",
   "metadata": {},
   "source": [
    "### 3.2 Analysis of Neighborhoods in the City of Toronto"
   ]
  },
  {
   "cell_type": "markdown",
   "metadata": {},
   "source": [
    "Analysis of the neighborhoods in Toronto follows the same procedure as that for the East Village in New York City, except all of the neighborhoods are included instead of just one.\n",
    "\n",
    "Once the coordinates for the City of Toronto have been identified, they are used with the neighborhood coordinates captured earlier as a data source to create a map. See below for the map of Toronto with its neighborhoods."
   ]
  },
  {
   "cell_type": "code",
   "execution_count": 20,
   "metadata": {},
   "outputs": [
    {
     "data": {
      "text/html": [
       "<a href=\"https://nbviewer.jupyter.org/github/MichaelMossPhD/Coursera_Capstone/blob/master/toronto.html\" target=\"_blank\">Link to map of Toronto neighborhoods.</a>"
      ],
      "text/plain": [
       "<IPython.core.display.HTML object>"
      ]
     },
     "execution_count": 20,
     "metadata": {},
     "output_type": "execute_result"
    }
   ],
   "source": [
    "HTML('<a href=\"https://nbviewer.jupyter.org/github/MichaelMossPhD/Coursera_Capstone/blob/master/toronto.html\" target=\"_blank\">Link to map of Toronto neighborhoods.</a>')"
   ]
  },
  {
   "cell_type": "markdown",
   "metadata": {},
   "source": [
    "The Foursquare API is utilized to explore and segment the neighborhoods in the City of Toronto. The neighborhood and venue data are combined into a DataFrame that lists the neighboorhoods with their latitudes and longitudes and their associated venues with their latitudes and longitudes, as weill as the venue categories. See the table below for a sample of the data."
   ]
  },
  {
   "cell_type": "markdown",
   "metadata": {},
   "source": [
    "<table>\n",
    "    <tr>\n",
    "        <th>Neighborhood</th>\n",
    "        <th>Neighborhood Latitude</th>\n",
    "        <th>Neighborhood Longitude</th>\n",
    "        <th>Venue</th>\n",
    "        <th>Venue Latitude</th>\n",
    "        <th>Venue Longitude\t</th>\n",
    "        <th>Venue Category</th>\n",
    "    </tr>\n",
    "    <tr>\n",
    "        <th>Rouge, Malvern</th>\n",
    "        <th>43.806686</th>\n",
    "        <th>-79.194353</th>\n",
    "        <th>Wendy's</th>\n",
    "        <th>43.807448</th>\n",
    "        <th>-79.199056</th>\n",
    "        <th>Fast Food Restaurant</th>\n",
    "    </tr>\n",
    "    <tr>\n",
    "        <th>Highland Creek, Rouge Hill, Port Union</th>\n",
    "        <th>43.784535</th>\n",
    "        <th>-79.160497</th>\n",
    "        <th>Royal Canadian Legion</th>\n",
    "        <th>43.782533</th>\n",
    "        <th>-79.163085</th>\n",
    "        <th>Bar</th>\n",
    "    </tr>\n",
    "    <tr>\n",
    "        <th>Guildwood, Morningside, West Hill</th>\n",
    "        <th>43.763573</th>\n",
    "        <th>-79.188711</th>\n",
    "        <th>Swiss Chalet Rotisserie & Grill</th>\n",
    "        <th>43.767697</th>\n",
    "        <th>-79.189914</th>\n",
    "        <th>Pizza</th>\n",
    "    </tr>\n",
    "    <tr>\n",
    "        <th>Guildwood, Morningside, West Hill</th>\n",
    "        <th>43.763573</th>\n",
    "        <th>-79.188711</th>\n",
    "        <th>G & G Electronics</th>\n",
    "        <th>43.765309</th>\n",
    "        <th>-79.191537</th>\n",
    "        <th>Electronics Store</th>\n",
    "    </tr>\n",
    "    <tr>\n",
    "        <th>Guildwood, Morningside, West Hill</th>\n",
    "        <th>43.763573</th>\n",
    "        <th>-79.188711</th>\n",
    "        <th>Big Bite Burrito</th>\n",
    "        <th>43.766299</th>\n",
    "        <th>-79.190720</th>\n",
    "        <th>Mexican Restaurant</th>\n",
    "    </tr>\n",
    "</table>"
   ]
  },
  {
   "cell_type": "markdown",
   "metadata": {},
   "source": [
    "As before, the number of venues in each category for the Toronto neighborhoods is added. Next, the means are taken for the venue's occurrence in each category. From this result, the top 10 most common categories are determined (showing top 5 for this example). See the following table for a sample of the rankings of neighborhood venue categories by frequency."
   ]
  },
  {
   "cell_type": "markdown",
   "metadata": {},
   "source": [
    "<table>\n",
    "    <tr>\n",
    "        <th>Adelaide, King, Richmond</th>\n",
    "    </tr>\n",
    "    <tr>\n",
    "        <th>Venue Category</th>\n",
    "        <th>Frequency</th>\n",
    "    </tr>\n",
    "    <tr>\n",
    "        <th>Coffee Shop</th>\n",
    "        <th>0.06</th>\n",
    "    </tr>\n",
    "    <tr>\n",
    "        <th>Café</th>\n",
    "        <th>0.05</th>\n",
    "    </tr>\n",
    "    <tr>\n",
    "        <th>Thai Restaurant</th>\n",
    "        <th>0.04</th>\n",
    "    </tr>\n",
    "    <tr>\n",
    "        <th>American Restaurant</th>\n",
    "        <th>0.04</th>\n",
    "    </tr>\n",
    "    <tr>\n",
    "        <th>Steakhouse</th>\n",
    "        <th>0.04</th>\n",
    "    </tr>\n",
    "    <tr>\n",
    "        <th>Agincourt</th>\n",
    "    </tr>\n",
    "    <tr>\n",
    "        <th>Venue Category</th>\n",
    "        <th>Frequency</th>\n",
    "    </tr>\n",
    "    <tr>\n",
    "        <th>Skating Rink</th>\n",
    "        <th>0.25</th>\n",
    "    </tr>\n",
    "    <tr>\n",
    "        <th>Breakfast Spot</th>\n",
    "        <th>0.25</th>\n",
    "    </tr>\n",
    "    <tr>\n",
    "        <th>Lounge</th>\n",
    "        <th>0.25</th>\n",
    "    </tr>\n",
    "    <tr>\n",
    "        <th>Clothing Store</th>\n",
    "        <th>0.25</th>\n",
    "    </tr>\n",
    "    <tr>\n",
    "        <th>Miscellaneous Shop</th>\n",
    "        <th>0.00</th>\n",
    "    </tr>\n",
    "</table>"
   ]
  },
  {
   "cell_type": "markdown",
   "metadata": {},
   "source": [
    "As before, a dataframe is created to store and display the top 10 venues for each neighborhood. See table below for a sample of the data."
   ]
  },
  {
   "cell_type": "markdown",
   "metadata": {},
   "source": [
    "<table>\n",
    "    <tr>\n",
    "        <th>Neighborhood</th>\n",
    "        <th>1st Most Common Venue Category</th>\n",
    "        <th>2nd Most Common Venue Category</th>\n",
    "        <th>3rd Most Common Venue Category</th>\n",
    "        <th>4th Most Common Venue Category</th>\n",
    "        <th>5th Most Common Venue Category</th>\n",
    "        <th>6th Most Common Venue Category</th>\n",
    "        <th>7th Most Common Venue Category</th>\n",
    "        <th>8th Most Common Venue Category</th>\n",
    "        <th>9th Most Common Venue Category</th>\n",
    "        <th>10th Most Common Venue Category</th>\n",
    "    </tr>\n",
    "    <tr>\n",
    "        <th>Adelaide, King, Richmond</th>\n",
    "        <th>Coffee Shop</th>\n",
    "        <th>Café</th>\n",
    "        <th>American Restaurant</th>\n",
    "        <th>Steakhouse</th>\n",
    "        <th>Thai Restaurant</th>\n",
    "        <th>Asian Restaurant</th>\n",
    "        <th>Bar</th>\n",
    "        <th>Restaurant</th>\n",
    "        <th>Bakery</th>\n",
    "        <th>Gym</th>\n",
    "    </tr>\n",
    "    <tr>\n",
    "        <th>Agincourt</th>\n",
    "        <th>Lounge</th>\n",
    "        <th>Clothing Store</th>\n",
    "        <th>Skating Rink</th>\n",
    "        <th>Breakfast Spot</th>\n",
    "        <th>Yoga Studio</th>\n",
    "        <th>Dumpling Restaurant</th>\n",
    "        <th>Discount Store</th>\n",
    "        <th>Dog Run</th>\n",
    "        <th>Doner Restaurant</th>\n",
    "        <th>Donut Shop</th>\n",
    "    </tr>\n",
    "    <tr>\n",
    "        <th>Agincourt North, L'Amoreaux East, Milliken, St...</th>\n",
    "        <th>Playground</th>\n",
    "        <th>Park</th>\n",
    "        <th>Yoga Studio</th>\n",
    "        <th>Drugstore</th>\n",
    "        <th>Dim Sum Restaurant</th>\n",
    "        <th>Diner</th>\n",
    "        <th>Discount Store</th>\n",
    "        <th>Dog Run</th>\n",
    "        <th>Doner Restaurant</th>\n",
    "        <th>Donut Shop</th>\n",
    "    </tr>\n",
    "    <tr>\n",
    "        <th>Albion Gardens, Beaumond Heights, Humbergate, ...</th>\n",
    "        <th>Grocery Store</th>\n",
    "        <th>Pharmacy</th>\n",
    "        <th>Fried Chicken Joint</th>\n",
    "        <th>Coffee Shop</th>\n",
    "        <th>Pizza Place</th>\n",
    "        <th>Sandwich Place</th>\n",
    "        <th>Beer Store</th>\n",
    "        <th>Fast Food Restaurant</th>\n",
    "        <th>Video Store</th>\n",
    "        <th>Gluten-free Restaurant</th>\n",
    "    </tr>\n",
    "     <tr>\n",
    "        <th>Alderwood, Long Branch</th>\n",
    "        <th>Pizza Place</th>\n",
    "        <th>Pharmacy</th>\n",
    "        <th>Gym\t</th>\n",
    "        <th>Coffee Shop</th>\n",
    "        <th>Skating Rink</th>\n",
    "        <th>Sandwich Place</th>\n",
    "        <th>Pub</th>\n",
    "        <th>Dog Run</th>\n",
    "        <th>Dessert Shop</th>\n",
    "        <th>Dim Sum Restaurant</th>\n",
    "    </tr>\n",
    "</table>"
   ]
  },
  {
   "cell_type": "markdown",
   "metadata": {},
   "source": [
    "Before further analysis is conducted, the East Village DataFrame is added to this one. This insertion allows the East Village to be included in a cluster with the Toronto neighborhoods. In this manner, the East Village neighborhood will be associated with similar Toronto neighborhoods. See table below showing the addition of venue categories for the East Village."
   ]
  },
  {
   "cell_type": "markdown",
   "metadata": {},
   "source": [
    "<table>\n",
    "    <tr>\n",
    "        <th>Neighborhood</th>\n",
    "        <th>1st Most Common Venue Category</th>\n",
    "        <th>2nd Most Common Venue Category</th>\n",
    "        <th>3rd Most Common Venue Category</th>\n",
    "        <th>4th Most Common Venue Category</th>\n",
    "        <th>5th Most Common Venue Category</th>\n",
    "        <th>6th Most Common Venue Category</th>\n",
    "        <th>7th Most Common Venue Category</th>\n",
    "        <th>8th Most Common Venue Category</th>\n",
    "        <th>9th Most Common Venue Category</th>\n",
    "        <th>10th Most Common Venue Category</th>\n",
    "    </tr>\n",
    "     <tr>\n",
    "        <th>East Village</th>\n",
    "        <th>Ice Cream Shop</th>\n",
    "        <th>Bar</th>\n",
    "        <th>Wine Bar</th>\n",
    "        <th>Cocktail Bar</th>\n",
    "        <th>Mexican Restaurant</th>\n",
    "        <th>Ramen Restaurant</th>\n",
    "        <th>Speakeasy</th>\n",
    "        <th>Pizza Place</th>\n",
    "        <th>Chinese Restaurant</th>\n",
    "        <th>Café</th>\n",
    "    </tr>\n",
    "    <tr>\n",
    "        <th>Adelaide, King, Richmond</th>\n",
    "        <th>Coffee Shop</th>\n",
    "        <th>Café</th>\n",
    "        <th>American Restaurant</th>\n",
    "        <th>Steakhouse</th>\n",
    "        <th>Thai Restaurant</th>\n",
    "        <th>Asian Restaurant</th>\n",
    "        <th>Bar</th>\n",
    "        <th>Restaurant</th>\n",
    "        <th>Bakery</th>\n",
    "        <th>Gym</th>\n",
    "    </tr>\n",
    "    <tr>\n",
    "        <th>Agincourt</th>\n",
    "        <th>Lounge</th>\n",
    "        <th>Clothing Store</th>\n",
    "        <th>Skating Rink</th>\n",
    "        <th>Breakfast Spot</th>\n",
    "        <th>Yoga Studio</th>\n",
    "        <th>Dumpling Restaurant</th>\n",
    "        <th>Discount Store</th>\n",
    "        <th>Dog Run</th>\n",
    "        <th>Doner Restaurant</th>\n",
    "        <th>Donut Shop</th>\n",
    "    </tr>\n",
    "    <tr>\n",
    "        <th>Agincourt North, L'Amoreaux East, Milliken, St...</th>\n",
    "        <th>Playground</th>\n",
    "        <th>Park</th>\n",
    "        <th>Yoga Studio</th>\n",
    "        <th>Drugstore</th>\n",
    "        <th>Dim Sum Restaurant</th>\n",
    "        <th>Diner</th>\n",
    "        <th>Discount Store</th>\n",
    "        <th>Dog Run</th>\n",
    "        <th>Doner Restaurant</th>\n",
    "        <th>Donut Shop</th>\n",
    "    </tr>\n",
    "    <tr>\n",
    "        <th>Albion Gardens, Beaumond Heights, Humbergate, ...</th>\n",
    "        <th>Grocery Store</th>\n",
    "        <th>Pharmacy</th>\n",
    "        <th>Fried Chicken Joint</th>\n",
    "        <th>Coffee Shop</th>\n",
    "        <th>Pizza Place</th>\n",
    "        <th>Sandwich Place</th>\n",
    "        <th>Beer Store</th>\n",
    "        <th>Fast Food Restaurant</th>\n",
    "        <th>Video Store</th>\n",
    "        <th>Gluten-free Restaurant</th>\n",
    "    </tr>\n",
    "     <tr>\n",
    "        <th>Alderwood, Long Branch</th>\n",
    "        <th>Pizza Place</th>\n",
    "        <th>Pharmacy</th>\n",
    "        <th>Gym\t</th>\n",
    "        <th>Coffee Shop</th>\n",
    "        <th>Skating Rink</th>\n",
    "        <th>Sandwich Place</th>\n",
    "        <th>Pub</th>\n",
    "        <th>Dog Run</th>\n",
    "        <th>Dessert Shop</th>\n",
    "        <th>Dim Sum Restaurant</th>\n",
    "    </tr>\n",
    "</table>"
   ]
  },
  {
   "cell_type": "markdown",
   "metadata": {},
   "source": [
    "### 3.3 Machine Learning Approach"
   ]
  },
  {
   "cell_type": "markdown",
   "metadata": {},
   "source": [
    "This analysis utilizes the k-means machine learning algorithm to segment the neighborhoods into similar clusters. This approach was taken because k-means is an unsupervised method for separating data points into homogeneous clusters, which in this case means putting neighborhoods into groups based upon their similarity. This analysis uses an unsupervised approach because a specific hypothesis is not being tested. The data is telling its own story. For this analysis, the value of k is 6."
   ]
  },
  {
   "cell_type": "markdown",
   "metadata": {},
   "source": [
    "## 4. Results"
   ]
  },
  {
   "cell_type": "markdown",
   "metadata": {},
   "source": [
    "Based upon the results from using k-means, a new data frame was created that combines similar neighborhoods into clusters with their top 10 venue categories. A review of these clusters reveals that the East Village has been placed into cluster number 5. See table below for those Toronto neighborhoods that are also in this cluster."
   ]
  },
  {
   "cell_type": "code",
   "execution_count": 21,
   "metadata": {},
   "outputs": [
    {
     "data": {
      "text/html": [
       "<a href=\"https://nbviewer.jupyter.org/github/MichaelMossPhD/Coursera_Capstone/blob/master/cluster_5.html\" target=\"_blank\">Link to Cluster 5 table.</a>"
      ],
      "text/plain": [
       "<IPython.core.display.HTML object>"
      ]
     },
     "execution_count": 21,
     "metadata": {},
     "output_type": "execute_result"
    }
   ],
   "source": [
    "HTML('<a href=\"https://nbviewer.jupyter.org/github/MichaelMossPhD/Coursera_Capstone/blob/master/cluster_5.html\" target=\"_blank\">Link to Cluster 5 table.</a>')"
   ]
  },
  {
   "cell_type": "markdown",
   "metadata": {},
   "source": [
    "To visualize the results, the East Village record is removed from the DataFrame, as to only identify Toronto neighborhoods and the City of Toronto is redrawn with color-coded neighborhood clusters. The 62 neighborhoods in cluster 5 are identified by the color orange. These are the potential relocation areas."
   ]
  },
  {
   "cell_type": "code",
   "execution_count": 22,
   "metadata": {},
   "outputs": [
    {
     "data": {
      "text/html": [
       "<a href=\"https://nbviewer.jupyter.org/github/MichaelMossPhD/Coursera_Capstone/blob/master/toronto_clusters.html\" target=\"_blank\">Link to map of Toronto clusters.</a>"
      ],
      "text/plain": [
       "<IPython.core.display.HTML object>"
      ]
     },
     "execution_count": 22,
     "metadata": {},
     "output_type": "execute_result"
    }
   ],
   "source": [
    "HTML('<a href=\"https://nbviewer.jupyter.org/github/MichaelMossPhD/Coursera_Capstone/blob/master/toronto_clusters.html\" target=\"_blank\">Link to map of Toronto clusters.</a>')"
   ]
  },
  {
   "cell_type": "markdown",
   "metadata": {},
   "source": [
    "## 5. Discussion"
   ]
  },
  {
   "cell_type": "markdown",
   "metadata": {},
   "source": [
    "Relocating to a different city may involve significant increases in time, expense, and stress, especially if the person were not familiar with the new area. This project assumed the individual’s previous location reflected those amenities they enjoyed and would like to maintain as closely as possible at their new residence. As such, this project was developed to answer the question, “How do I travel to a new city and find a neighborhood in which to live that offers similar comforts and amenities to the one I left?”\n",
    "\n",
    "As this project represented a case of unsupervised learning, I entered the analysis without any preconceived notions regarding the outcome. Not wanting to subject my findings to any conscious or subconscious bias, I relied on the k-means machine learning algorithm to provide objective/quantitative results. My focus was to provide a logical methodology that would provide a feasible solution.\n",
    "\n",
    "The process itself is relatively straightforward. First, find the top 10 venue categories in the person’s current neighborhood, using the East Village as an example. Second, find the top 10 venue categories in the neighborhoods within the City of Toronto. Third, insert the East Village neighborhoods with those of Toronto, so it will be included in the clustering process. Fourth, run the k-means procedure to cluster the neighborhoods. Fifth, examine the resulting clusters to determine which one contains the East Village. This cluster displays those neighborhoods the individual should investigate for potential relocation.\n",
    "\n",
    "My primary observation regarding the results is that more neighborhoods (62) were returned than I had hoped. While some of the neighborhoods were filtered, many more remained. One way to improve the results may be to include a procedure to find the optimum number of “k” for the algorithm to utilize. I did try several different settings; however, none appeared to make a significant difference to my results. Still, it’s an area to investigate, as it would make the process less qualitative.\n",
    "\n",
    "Another approach may involve using an alternative clustering algorithm, such as Mean-Shift Clustering, Density-Based Spatial Clustering of Applications, Expectation–Maximization (EM) Clustering, or Agglomerative Hierarchical Clustering. While all may not be appropriate for this exercise, alternatives are available that may warrant investigation.\n",
    "\n",
    "One future enhancement to this analysis could include the introduction of venue quality. By adding a quality component, the relative merits of establishments between neighborhoods could be compared. This addition would allow rankings to include both the number of venues within neighborhood categories, as well as their level of customer satisfaction.\n",
    "\n",
    "With respect to answering the business problem, it may be found by examining the clusters returned by the k-means algorithm. We see the originating neighborhood of East Village is included in Cluster 5 along with similar neighborhoods in Toronto. As such, these are the neighborhoods in Toronto the subject should examine as possible relocation sites. In this case, there appears to be a large selection of candidates. \n"
   ]
  },
  {
   "cell_type": "markdown",
   "metadata": {},
   "source": [
    "## 6. Conclusion"
   ]
  },
  {
   "cell_type": "markdown",
   "metadata": {},
   "source": [
    "This project offers a systematic and reproducible approach utilizing a quantitative based methodology to compare the neighborhood of one city to those of another. As such, it provides a beginning step for those looking to relocate and defines a list of possible relocation sites before one even leaves home, potentially saving them both time and money.\n",
    "\n",
    "[The code for this project may be found here.](https://github.com/MichaelMossPhD/Coursera_Capstone/blob/master/IBM%20Capstone%20Project%20-%20Code.ipynb)"
   ]
  },
  {
   "cell_type": "markdown",
   "metadata": {},
   "source": [
    "![alt text](toronto_clusters.png \"Title\")"
   ]
  },
  {
   "cell_type": "code",
   "execution_count": null,
   "metadata": {},
   "outputs": [],
   "source": []
  }
 ],
 "metadata": {
  "kernelspec": {
   "display_name": "Python 3",
   "language": "python",
   "name": "python3"
  },
  "language_info": {
   "codemirror_mode": {
    "name": "ipython",
    "version": 3
   },
   "file_extension": ".py",
   "mimetype": "text/x-python",
   "name": "python",
   "nbconvert_exporter": "python",
   "pygments_lexer": "ipython3",
   "version": "3.7.0"
  }
 },
 "nbformat": 4,
 "nbformat_minor": 2
}
