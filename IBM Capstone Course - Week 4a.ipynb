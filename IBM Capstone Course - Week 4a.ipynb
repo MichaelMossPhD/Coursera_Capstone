{
 "cells": [
  {
   "cell_type": "markdown",
   "metadata": {},
   "source": [
    "# IBM Capstone Course Project"
   ]
  },
  {
   "cell_type": "markdown",
   "metadata": {},
   "source": [
    "## 1. Introduction/Business Problem"
   ]
  },
  {
   "cell_type": "markdown",
   "metadata": {},
   "source": [
    "### 1.1 Introduction (Background)"
   ]
  },
  {
   "cell_type": "markdown",
   "metadata": {},
   "source": [
    "Early in my career, I relocated to several cities while pursuing employment opportunities. While I thought of these travels as adventures, I was concerned with the challenge of finding housing in a neighborhood that provided a suitable environment, similar to the one I had just left. The process of finding a new home where I enjoyed living was usually a hit or miss proposition, especially in larger cities that offered a multitude of residential choices.\n",
    "\n",
    "Once I arrived in a city, I would usually find something that met my basic requirements, as typically my search window was small. As I had time to explore, I would eventually discover a place that I found not only satisfactory, but also pleasing. Unfortunately, this process was highly ineffective, as it could result in significantly higher relocation expenses, as what should have been only one move could easily evolve into at least two."
   ]
  },
  {
   "cell_type": "markdown",
   "metadata": {},
   "source": [
    "### 1.2 Business Problem"
   ]
  },
  {
   "cell_type": "markdown",
   "metadata": {},
   "source": [
    "When relocating from one city to another, a person should have a resource available to help them find a residence in a neighborhood that offers a set of desired amenities similar to the one they left. This stage of the relocation process should be optimized for time-efficiency, offering a manageable selection of neighborhoods from which to choose. Unfortunately, when moving to a new city, a person may not be familiar with the area. This unfamiliarity often results in an inefficient use of one’s time and financial resources, as they become overwhelmed with choices which may or may not suite their needs. Also, the person may feel increasing levels of stress, as the time for finding a residence and the cost of temporary housing increase, leading them to perhaps make a suboptimal decision. Using the process outlined in this project, someone relocating to another city will be able to streamline their search for a new residence relatively quickly by reducing the number of choices to a manageable level while focusing on those neighborhoods that meet their requirements. In summary, this project addresses the question, “How do I travel to a new city and find a neighborhood in which to live that offers similar comforts and amenities to the one I left?”"
   ]
  },
  {
   "cell_type": "markdown",
   "metadata": {},
   "source": [
    "### 1.3 Target Audience"
   ]
  },
  {
   "cell_type": "markdown",
   "metadata": {},
   "source": [
    "This project is useful for two target audiences. This first audience is those who are moving from one city to another and desire to maintain a similar living condition with recognizable surroundings. They are seeking an efficient time/cost process for selecting their optimum neighborhood. (Note: this process assumes the individual wishes to seek a neighborhood like the one they are leaving.) The second audience is those real estate agents/relocation consultants who desire to offer a service that increases not only the efficiency by which their clients are able to relocate into a new city, but also their level of satisfaction with their new neighborhood. Developing such a list of satisfied customers will increase referrals and help their practice to flourish."
   ]
  },
  {
   "cell_type": "code",
   "execution_count": null,
   "metadata": {},
   "outputs": [],
   "source": []
  }
 ],
 "metadata": {
  "kernelspec": {
   "display_name": "Python 3",
   "language": "python",
   "name": "python3"
  },
  "language_info": {
   "codemirror_mode": {
    "name": "ipython",
    "version": 3
   },
   "file_extension": ".py",
   "mimetype": "text/x-python",
   "name": "python",
   "nbconvert_exporter": "python",
   "pygments_lexer": "ipython3",
   "version": "3.7.0"
  }
 },
 "nbformat": 4,
 "nbformat_minor": 2
}
