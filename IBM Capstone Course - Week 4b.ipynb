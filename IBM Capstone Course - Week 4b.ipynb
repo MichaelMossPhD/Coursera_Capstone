{
 "cells": [
  {
   "cell_type": "markdown",
   "metadata": {},
   "source": [
    "## 2. Data"
   ]
  },
  {
   "cell_type": "markdown",
   "metadata": {},
   "source": [
    "### 2.1 Data Sources and Description"
   ]
  },
  {
   "cell_type": "markdown",
   "metadata": {},
   "source": [
    "The data used in this project is derived from three different sources. For the purpose of this analysis, New York City serves as the originating location and the City of Toronto is the destination. "
   ]
  },
  {
   "cell_type": "markdown",
   "metadata": {},
   "source": [
    "#### 2.1.1 New York City Data"
   ]
  },
  {
   "cell_type": "markdown",
   "metadata": {},
   "source": [
    "Data for New York City was initially downloaded from the NYU Spatial Data Repository and then housed on the course server for use in the Week 3 laboratory. The “newyork_data.json” file contains information for the City’s 5 boroughs and 306 neighborhoods, including the latitude and longitude coordinates for each neighborhood. The relevant data is contained in the features object with the borough and neighborhood values in the properties object and the latitude and longitude coordinates in the geometry object. This information is read into a pandas DataFrame that contains columns for “Borough,” “Neighborhood,” “Latitude,” and “Longitude.” See table below for an example."
   ]
  },
  {
   "cell_type": "markdown",
   "metadata": {},
   "source": [
    " <table>\n",
    "    <tr>\n",
    "        <th>Borough</th>\n",
    "        <th>Neighborhood</th>\n",
    "        <th>Latitude</th>\n",
    "        <th>Longitude</th>\n",
    "    </tr>\n",
    "    <tr>\n",
    "        <th>Manhattan</th>\n",
    "        <th>Marble Hill</th>\n",
    "        <th>40.876551</th>\n",
    "        <th>-73.910660</th>\n",
    "    </tr>\n",
    "    <tr>\n",
    "        <th>Manhattan</th>\n",
    "        <th>Chinatown</th>\n",
    "        <th>40.715618</th>\n",
    "        <th>-73.994279</th>\n",
    "    </tr>\n",
    "     <tr>\n",
    "        <th>Manhattan</th>\n",
    "        <th>Washington Heights</th>\n",
    "        <th>40.851903</th>\n",
    "        <th>-73.936900</th>\n",
    "    </tr>\n",
    "     <tr>\n",
    "        <th>Manhattan</th>\n",
    "        <th>Inwood</th>\n",
    "        <th>40.867684</th>\n",
    "        <th>-73.921210</th>\n",
    "    </tr>\n",
    "     <tr>\n",
    "        <th>Manhattan</th>\n",
    "        <th>Hamilton Heights</th>\n",
    "        <th>40.823604</th>\n",
    "        <th>-73.949688</th>\n",
    "    </tr>\n",
    "</table>"
   ]
  },
  {
   "cell_type": "markdown",
   "metadata": {},
   "source": [
    "#### 2.1.2 City of Toronto Data"
   ]
  },
  {
   "cell_type": "markdown",
   "metadata": {},
   "source": [
    "Collecting data for the City of Toronto is a more complex endeavor. The raw data for Toronto’s neighborhoods is gathered from the “List of Postal Codes of Canada: M” Wikipedia page. Data from this page is scraped using BeautifulSoup4 with the lxml toolkit for processing XML and HTML. Data from each HTML table row in the “wikitable sortable” table class is read into a pandas DataFrame that contains columns for “Postcode,” “Borough,” and “Neighborhood.” After creating the DataFrame, the data is wrangled in four steps:\n",
    "1. Rows having boroughs with the designation of “Not assigned” are removed.\n",
    "2. Neighborhoods that share the same postal code are combined into one record with the neighborhoods separated with a comma.\n",
    "3. If a record has a borough, but the neighborhood has the designation of “Not assigned,” the neighborhood has the same value as its borough. \n",
    "4. Values in the Neighborhood column with an extra character (“\\n”) have it removed using the replace() method.\n",
    "\n",
    "See table below for an example of the resulting DataFrame."
   ]
  },
  {
   "cell_type": "markdown",
   "metadata": {},
   "source": [
    "<table>\n",
    "    <tr>\n",
    "        <th>PostalCode</th>\n",
    "        <th>Borough</th>\n",
    "        <th>Neighborhood</th>\n",
    "    </tr>\n",
    "<tr>\n",
    "        <th>M1B</th>\n",
    "        <th>Scarborough</th>\n",
    "        <th>Rouge, Malvern</th>\n",
    "    </tr>\n",
    "    <tr>\n",
    "        <th>M1C</th>\n",
    "        <th>Scarborough</th>\n",
    "        <th>Highland Creek, Rouge Hill, Port Union</th>\n",
    "    </tr>\n",
    "     <tr>\n",
    "        <th>M1E</th>\n",
    "        <th>Scarborough</th>\n",
    "        <th>Guildwood, Morningside, West Hill</th>\n",
    "    </tr>\n",
    "    <tr>\n",
    "        <th>M1G</th>\n",
    "        <th>Scarborough</th>\n",
    "        <th>Woburn</th>\n",
    "    </tr>\n",
    "     <tr>\n",
    "        <th>M1H</th>\n",
    "        <th>Scarborough</th>\n",
    "        <th>Cedarbrae</th>\n",
    "    </tr>\n",
    "</table>"
   ]
  },
  {
   "cell_type": "markdown",
   "metadata": {},
   "source": [
    "However, the preceeding DataFrame does not contain the necessary latitude and longitude coordinates. This information was provided via an instructor furnished .csv file, Geospatial_Coordinates.csv. This data is merged with the original City of Toronto DataFrame. See table below for an example of the resulting DataFrame."
   ]
  },
  {
   "cell_type": "markdown",
   "metadata": {},
   "source": [
    "<table>\n",
    "    <tr>\n",
    "        <th>PostalCode</th>\n",
    "        <th>Borough</th>\n",
    "        <th>Neighborhood</th>\n",
    "        <th>Latitude</th>\n",
    "        <th>Longitude</th>\n",
    "    </tr>\n",
    "<tr>\n",
    "        <th>M1B</th>\n",
    "        <th>Scarborough</th>\n",
    "        <th>Rouge, Malvern</th>\n",
    "        <th>43.806686</th>\n",
    "        <th>-79.194353</th>\n",
    "    </tr>\n",
    "    <tr>\n",
    "        <th>M1C</th>\n",
    "        <th>Scarborough</th>\n",
    "        <th>Highland Creek, Rouge Hill, Port Union</th>\n",
    "        <th>43.784535</th>\n",
    "        <th>-79.160497</th>\n",
    "    </tr>\n",
    "     <tr>\n",
    "        <th>M1E</th>\n",
    "        <th>Scarborough</th>\n",
    "        <th>Guildwood, Morningside, West Hill</th>\n",
    "        <th>43.763573</th>\n",
    "        <th>-79.188711</th>\n",
    "    </tr>\n",
    "     <tr>\n",
    "        <th>M1G</th>\n",
    "        <th>Scarborough</th>\n",
    "        <th>Woburn</th>\n",
    "        <th>43.770992</th>\n",
    "        <th>-79.216917</th>\n",
    "    </tr>\n",
    "    <tr>\n",
    "        <th>M1H</th>\n",
    "        <th>Scarborough</th>\n",
    "        <th>Cedarbrae</th>\n",
    "        <th>43.773136</th>\n",
    "        <th>-79.239476</th>\n",
    "    </tr>\n",
    "</table>"
   ]
  },
  {
   "cell_type": "markdown",
   "metadata": {},
   "source": [
    "Finally, the Postcode column is removed, resulting in the same format structure as the DataFrame for New York City. See table below for an example of the resulting DataFrame."
   ]
  },
  {
   "cell_type": "markdown",
   "metadata": {},
   "source": [
    "<table>\n",
    "    <tr>\n",
    "        <th>Borough</th>\n",
    "        <th>Neighborhood</th>\n",
    "        <th>Latitude</th>\n",
    "        <th>Longitude</th>\n",
    "    </tr>\n",
    "<tr>\n",
    "        <th>Scarborough</th>\n",
    "        <th>Rouge, Malvern</th>\n",
    "        <th>43.806686</th>\n",
    "        <th>-79.194353</th>\n",
    "    </tr>\n",
    "    <tr>\n",
    "        <th>Scarborough</th>\n",
    "        <th>Highland Creek, Rouge Hill, Port Union</th>\n",
    "        <th>43.784535</th>\n",
    "        <th>-79.160497</th>\n",
    "    </tr>\n",
    "     <tr>\n",
    "        <th>Scarborough</th>\n",
    "        <th>Guildwood, Morningside, West Hill</th>\n",
    "        <th>43.763573</th>\n",
    "        <th>-79.188711</th>\n",
    "    </tr>\n",
    "     <tr>\n",
    "        <th>Scarborough</th>\n",
    "        <th>Woburn</th>\n",
    "        <th>43.770992</th>\n",
    "        <th>-79.216917</th>\n",
    "    </tr>\n",
    "    <tr>\n",
    "        <th>Scarborough</th>\n",
    "        <th>Cedarbrae</th>\n",
    "        <th>43.773136</th>\n",
    "        <th>-79.239476</th>\n",
    "    </tr>\n",
    "</table>"
   ]
  },
  {
   "cell_type": "markdown",
   "metadata": {},
   "source": [
    "#### 2.1.3 FourSquare Data"
   ]
  },
  {
   "cell_type": "markdown",
   "metadata": {},
   "source": [
    "Connecting to its database, the FourSquare API is used to explore neighborhoods in New York City and the City of Toronto. The resulting Jason files provide the following information regarding venues from each neighborhood:\n",
    "- Venue Name (name)\n",
    "- Category Name (categories)\n",
    "- Venue Latitude (lat)\n",
    "- Venue Longitude (lng)\n",
    "\n",
    "The data is cleaned and stored in a DataFrame. See table below for an example."
   ]
  },
  {
   "cell_type": "markdown",
   "metadata": {},
   "source": [
    "<table>\n",
    "    <tr>\n",
    "        <th>name</th>\n",
    "        <th>categories</th>\n",
    "        <th>lat</th>\n",
    "        <th>lng</th>\n",
    "    </tr>\n",
    "    <tr>\n",
    "        <th>Eagle's Nest Golf Club</th>\n",
    "        <th>Golf Course</th>\n",
    "        <th>43.805455</th>\n",
    "        <th>-79.364186</th>\n",
    "    </tr>\n",
    "    <tr>\n",
    "        <th>AY Jackson Pool</th>\n",
    "        <th>Pool</th>\n",
    "        <th>43.804515</th>\n",
    "        <th>-79.366138</th>\n",
    "    </tr>\n",
    "    <tr>\n",
    "        <th>Villa Madina</th>\n",
    "        <th>Mediterranean Restaurant</th>\n",
    "        <th>43.801685</th>\n",
    "        <th>-79.363938</th>\n",
    "    </tr>\n",
    "     <tr>\n",
    "        <th>Duncan Creek Park</th>\n",
    "        <th>Dog Run</th>\n",
    "        <th>43.805539</th>\n",
    "        <th>-79.360695</th>\n",
    "    </tr>\n",
    "</table>"
   ]
  },
  {
   "cell_type": "markdown",
   "metadata": {},
   "source": [
    "This information is then merged with the DataFrames for New York City and the City of Toronto. The resulting DataFrames provide columns for each city’s neighborhoods, neighborhood latitudes, neighborhood longitudes, venues, venue latitudes, venue longitudes, and venue categories. See table below for an example."
   ]
  },
  {
   "cell_type": "markdown",
   "metadata": {},
   "source": [
    "<table>\n",
    "    <tr>\n",
    "        <th>Neighborhood</th>\n",
    "        <th>Neighborhood Latitude</th>\n",
    "        <th>Neighborhood Longitude</th>\n",
    "        <th>Venue</th>\n",
    "        <th>Venue Latitude</th>\n",
    "        <th>Venue Longitude</th>\n",
    "        <th>Category</th>\n",
    "    </tr>\n",
    "    <tr>\n",
    "        <th>Hillcrest Village</th>\n",
    "        <th>43.803762</th>\n",
    "        <th>-79.363452</th>\n",
    "        <th>Eagle's Nest Golf Club</th>\n",
    "        <th>43.805455</th>\n",
    "        <th>-79.364186</th>\n",
    "        <th>Golf Course</th>\n",
    "    </tr>\n",
    "    <tr>\n",
    "        <th>Hillcrest Village</th>\n",
    "        <th>43.803762</th>\n",
    "        <th>-79.363452</th>\n",
    "        <th>AY Jackson Pool</th>\n",
    "        <th>43.804515</th>\n",
    "        <th>-79.366138</th>\n",
    "        <th>Pool</th>\n",
    "    </tr>\n",
    "    <tr>\n",
    "        <th>Hillcrest Village</th>\n",
    "        <th>43.803762</th>\n",
    "        <th>-79.363452</th>\n",
    "        <th>Villa Madina</th>\n",
    "        <th>43.801685</th>\n",
    "        <th>-79.363938</th>\n",
    "        <th>Mediterranean Restaurant</th>\n",
    "    </tr>\n",
    "    <tr>\n",
    "        <th>Hillcrest Village</th>\n",
    "        <th>43.803762</th>\n",
    "        <th>-79.363452</th>\n",
    "        <th>Duncan Creek Park</th>\n",
    "        <th>43.805539</th>\n",
    "        <th>-79.360695</th>\n",
    "        <th>Dog Run</th>\n",
    "    </tr>\n",
    "    <tr>\n",
    "        <th>Fairview, Henry Farm, Oriole</th>\n",
    "        <th>43.778517</th>\n",
    "        <th>-79.346556</th>\n",
    "        <th>The LEGO Store</th>\n",
    "        <th>43.778207</th>\n",
    "        <th>-79.360695</th>\n",
    "        <th>Toy / Game Store</th>\n",
    "    </tr>\n",
    "</table>\n",
    "\n",
    "\n",
    "\n",
    "\n",
    "\n",
    "\n"
   ]
  },
  {
   "cell_type": "markdown",
   "metadata": {},
   "source": [
    "### 2.2 How the Data Will Be Used to Solve the Problem"
   ]
  },
  {
   "cell_type": "markdown",
   "metadata": {},
   "source": [
    "Data pertaining to the boroughs of New York City and the City of Toronto will be used to identify their respective neighborhoods. Neighborhood coordinates will be used to locate them on a geographical map. The map of New Yok City will identify the location of the neighborhood that serves as the starting point for the subject’s relocation. The initial map of the City of Toronto will identify locations of potential neighborhoods in which the subject may reside. Eventually, the City of Toronto map will display color-coded neighborhoods, identifying those that meet the subject’s requirements.\n",
    "\n",
    "Neighborhood data will be combined with FourSquare’s venue data to:\n",
    "1. associate venues with a specific neighborhood\n",
    "2. determine the number of unique categories in each neighborhood\n",
    "3. gather a specified number of top venues within a given radius of a neighborhood, and\n",
    "4. determine the number of venues returned for each neighborhood.\n",
    "\n",
    "The collected data will then be processed to determine the mean and frequency of occurrence of each category for each neighborhood. The most common five venues for each neighborhood will be identified and sorted in descending order. Finally, a DataFrame will be created to store the top 10 most common venues for each neighborhood. The data from this DataFrame will be processed to cluster the neighborhoods, allowing for comparsion between the baseline neighborhood in New York City and those in the City of Toronto."
   ]
  },
  {
   "cell_type": "code",
   "execution_count": null,
   "metadata": {},
   "outputs": [],
   "source": []
  }
 ],
 "metadata": {
  "kernelspec": {
   "display_name": "Python 3",
   "language": "python",
   "name": "python3"
  },
  "language_info": {
   "codemirror_mode": {
    "name": "ipython",
    "version": 3
   },
   "file_extension": ".py",
   "mimetype": "text/x-python",
   "name": "python",
   "nbconvert_exporter": "python",
   "pygments_lexer": "ipython3",
   "version": "3.7.0"
  }
 },
 "nbformat": 4,
 "nbformat_minor": 2
}
